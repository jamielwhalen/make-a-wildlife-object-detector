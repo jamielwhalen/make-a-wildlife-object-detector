{
 "cells": [
  {
   "cell_type": "code",
   "execution_count": 1,
   "metadata": {},
   "outputs": [],
   "source": [
    "import numpy as np\n",
    "import os\n",
    "import six.moves.urllib as urllib\n",
    "import sys\n",
    "import tarfile\n",
    "import tensorflow as tf\n",
    "import zipfile\n",
    "\n",
    "from distutils.version import StrictVersion\n",
    "from collections import defaultdict\n",
    "from io import StringIO\n",
    "from matplotlib import pyplot as plt\n",
    "from PIL import Image\n",
    "\n",
    "# This is needed since the notebook is stored in the object_detection folder.\n",
    "sys.path.append(\"..\")\n",
    "from object_detection.utils import ops as utils_ops\n",
    "\n",
    "if StrictVersion(tf.__version__) < StrictVersion('1.9.0'):\n",
    "  raise ImportError('Please upgrade your TensorFlow installation to v1.9.* or later!')"
   ]
  },
  {
   "cell_type": "code",
   "execution_count": 2,
   "metadata": {},
   "outputs": [],
   "source": [
    "# This is needed to display the images.\n",
    "%matplotlib inline"
   ]
  },
  {
   "cell_type": "code",
   "execution_count": 3,
   "metadata": {},
   "outputs": [],
   "source": [
    "from utils import label_map_util\n",
    "\n",
    "from utils import visualization_utils as vis_util"
   ]
  },
  {
   "cell_type": "code",
   "execution_count": 4,
   "metadata": {},
   "outputs": [],
   "source": [
    "MODEL_NAME = 'inference_graph'\n",
    "PATH_TO_FROZEN_GRAPH = MODEL_NAME + '/frozen_inference_graph.pb'\n",
    "PATH_TO_LABELS = 'training/label_map.pbtxt'"
   ]
  },
  {
   "cell_type": "code",
   "execution_count": 5,
   "metadata": {},
   "outputs": [],
   "source": [
    "detection_graph = tf.Graph()\n",
    "with detection_graph.as_default():\n",
    "  od_graph_def = tf.GraphDef()\n",
    "  with tf.gfile.GFile(PATH_TO_FROZEN_GRAPH, 'rb') as fid:\n",
    "    serialized_graph = fid.read()\n",
    "    od_graph_def.ParseFromString(serialized_graph)\n",
    "    tf.import_graph_def(od_graph_def, name='')"
   ]
  },
  {
   "cell_type": "code",
   "execution_count": 6,
   "metadata": {},
   "outputs": [],
   "source": [
    "category_index = label_map_util.create_category_index_from_labelmap(PATH_TO_LABELS, use_display_name=True)\n"
   ]
  },
  {
   "cell_type": "code",
   "execution_count": 7,
   "metadata": {},
   "outputs": [],
   "source": [
    "# PATH_TO_LABELS = 'training/label_map.pbtxt'\n",
    "# category_index = label_map_util.create_category_index_from_labelmap(PATH_TO_LABELS, use_display_name=True)"
   ]
  },
  {
   "cell_type": "code",
   "execution_count": 8,
   "metadata": {},
   "outputs": [],
   "source": [
    "def run_inference_for_single_image(image, graph):\n",
    "    if 'detection_masks' in tensor_dict:\n",
    "        # The following processing is only for single image\n",
    "        detection_boxes = tf.squeeze(tensor_dict['detection_boxes'], [0])\n",
    "        detection_masks = tf.squeeze(tensor_dict['detection_masks'], [0])\n",
    "        # Reframe is required to translate mask from box coordinates to image coordinates and fit the image size.\n",
    "        real_num_detection = tf.cast(tensor_dict['num_detections'][0], tf.int32)\n",
    "        detection_boxes = tf.slice(detection_boxes, [0, 0], [real_num_detection, -1])\n",
    "        detection_masks = tf.slice(detection_masks, [0, 0, 0], [real_num_detection, -1, -1])\n",
    "        detection_masks_reframed = utils_ops.reframe_box_masks_to_image_masks(\n",
    "            detection_masks, detection_boxes, image.shape[0], image.shape[1])\n",
    "        detection_masks_reframed = tf.cast(\n",
    "            tf.greater(detection_masks_reframed, 0.5), tf.uint8)\n",
    "        # Follow the convention by adding back the batch dimension\n",
    "        tensor_dict['detection_masks'] = tf.expand_dims(\n",
    "            detection_masks_reframed, 0)\n",
    "    image_tensor = tf.get_default_graph().get_tensor_by_name('image_tensor:0')\n",
    "\n",
    "    # Run inference\n",
    "    output_dict = sess.run(tensor_dict,\n",
    "                            feed_dict={image_tensor: np.expand_dims(image, 0)})\n",
    "\n",
    "    # all outputs are float32 numpy arrays, so convert types as appropriate\n",
    "    output_dict['num_detections'] = int(output_dict['num_detections'][0])\n",
    "    output_dict['detection_classes'] = output_dict[\n",
    "        'detection_classes'][0].astype(np.uint8)\n",
    "    output_dict['detection_boxes'] = output_dict['detection_boxes'][0]\n",
    "    output_dict['detection_scores'] = output_dict['detection_scores'][0]\n",
    "    if 'detection_masks' in output_dict:\n",
    "        output_dict['detection_masks'] = output_dict['detection_masks'][0]\n",
    "    return output_dict"
   ]
  },
  {
   "cell_type": "code",
   "execution_count": 9,
   "metadata": {},
   "outputs": [],
   "source": [
    "def show_inference(detection_graph, image_path):\n",
    "    try:\n",
    "        with detection_graph.as_default():\n",
    "            with tf.Session() as sess:\n",
    "                    # Get handles to input and output tensors\n",
    "                    ops = tf.get_default_graph().get_operations()\n",
    "                    all_tensor_names = {output.name for op in ops for output in op.outputs}\n",
    "                    tensor_dict = {}\n",
    "                    for key in [\n",
    "                      'num_detections', 'detection_boxes', 'detection_scores',\n",
    "                      'detection_classes', 'detection_masks'\n",
    "                    ]:\n",
    "                        tensor_name = key + ':0'\n",
    "                        if tensor_name in all_tensor_names:\n",
    "                            tensor_dict[key] = tf.get_default_graph().get_tensor_by_name(\n",
    "                          tensor_name)\n",
    "                    \n",
    "                        \n",
    "                        # the array based representation of the image will be used later in order to prepare the\n",
    "                        # result image with boxes and labels on it.\n",
    "                        image_np = np.array(Image.open(image_path))\n",
    "                        # Actual detection.\n",
    "                        output_dict = run_inference_for_single_image(detection_graph, image_np)\n",
    "                        # Visualization of the results of a detection.\n",
    "                        vis_util.visualize_boxes_and_labels_on_image_array(\n",
    "                          image_np,\n",
    "                          output_dict['detection_boxes'],\n",
    "                          output_dict['detection_classes'],\n",
    "                          output_dict['detection_scores'],\n",
    "                          category_index,\n",
    "                          instance_masks=output_dict.get('detection_masks_reframed', None),\n",
    "                          use_normalized_coordinates=True,\n",
    "                          line_thickness=8)\n",
    "\n",
    "                        display(Image.fromarray(image_np))\n",
    "                          \n",
    "    except Exception as e:\n",
    "        print(e)"
   ]
  },
  {
   "cell_type": "code",
   "execution_count": 10,
   "metadata": {},
   "outputs": [
    {
     "name": "stdout",
     "output_type": "stream",
     "text": [
      "name 'tensor_dict' is not defined\n"
     ]
    }
   ],
   "source": [
    "show_inference(detection_graph,'test_images/goose.jpg')"
   ]
  },
  {
   "cell_type": "code",
   "execution_count": 11,
   "metadata": {},
   "outputs": [],
   "source": [
    "# img = cv2.imread('/test_images/goose.jpg')"
   ]
  },
  {
   "cell_type": "code",
   "execution_count": 12,
   "metadata": {},
   "outputs": [],
   "source": [
    "img = np.array(Image.open('test_images/goose.jpg'))"
   ]
  },
  {
   "cell_type": "code",
   "execution_count": 13,
   "metadata": {},
   "outputs": [],
   "source": [
    "import glob, os"
   ]
  },
  {
   "cell_type": "code",
   "execution_count": 14,
   "metadata": {},
   "outputs": [],
   "source": [
    "img_print = Image.fromarray(img, 'RGB')\n",
    "img_print.show()"
   ]
  },
  {
   "cell_type": "code",
   "execution_count": 15,
   "metadata": {},
   "outputs": [],
   "source": [
    "test_images = glob.glob(\"test_images/*.jpg\")"
   ]
  },
  {
   "cell_type": "code",
   "execution_count": 16,
   "metadata": {},
   "outputs": [
    {
     "name": "stdout",
     "output_type": "stream",
     "text": [
      "['test_images\\\\goose.jpg', 'test_images\\\\image1.jpg', 'test_images\\\\image2.jpg']\n"
     ]
    }
   ],
   "source": [
    "print(test_images)"
   ]
  },
  {
   "cell_type": "code",
   "execution_count": 17,
   "metadata": {},
   "outputs": [
    {
     "ename": "TypeError",
     "evalue": "show_inference() missing 2 required positional arguments: 'detection_graph' and 'image_path'",
     "output_type": "error",
     "traceback": [
      "\u001b[1;31m---------------------------------------------\u001b[0m",
      "\u001b[1;31mTypeError\u001b[0m   Traceback (most recent call last)",
      "\u001b[1;32m<ipython-input-17-dae85bcbfa58>\u001b[0m in \u001b[0;36m<module>\u001b[1;34m\u001b[0m\n\u001b[1;32m----> 1\u001b[1;33m \u001b[0mshow_inference\u001b[0m\u001b[1;33m(\u001b[0m\u001b[1;33m)\u001b[0m\u001b[1;33m\u001b[0m\u001b[1;33m\u001b[0m\u001b[0m\n\u001b[0m",
      "\u001b[1;31mTypeError\u001b[0m: show_inference() missing 2 required positional arguments: 'detection_graph' and 'image_path'"
     ]
    }
   ],
   "source": [
    "show_inference()"
   ]
  },
  {
   "cell_type": "code",
   "execution_count": null,
   "metadata": {},
   "outputs": [],
   "source": []
  },
  {
   "cell_type": "code",
   "execution_count": null,
   "metadata": {},
   "outputs": [],
   "source": [
    "# def run_inference_for_single_image(model, image):\n",
    "#     image = np.asarray(image)\n",
    "#     # The input needs to be a tensor, convert it using `tf.convert_to_tensor`.\n",
    "#     input_tensor = tf.convert_to_tensor(image)\n",
    "#     # The model expects a batch of images, so add an axis with `tf.newaxis`.\n",
    "#     input_tensor = input_tensor[tf.newaxis,...]\n",
    "\n",
    "#     # Run inference\n",
    "#     output_dict = model(input_tensor)\n",
    "\n",
    "#     # All outputs are batches tensors.\n",
    "#     # Convert to numpy arrays, and take index [0] to remove the batch dimension.\n",
    "#     # We're only interested in the first num_detections.\n",
    "#     num_detections = int(output_dict.pop('num_detections'))\n",
    "#     output_dict = {key:value[0, :num_detections].numpy() \n",
    "#                  for key,value in output_dict.items()}\n",
    "#     output_dict['num_detections'] = num_detections\n",
    "\n",
    "#     # detection_classes should be ints.\n",
    "#     output_dict['detection_classes'] = output_dict['detection_classes'].astype(np.int64)\n",
    "\n",
    "#     # Handle models with masks:\n",
    "#     if 'detection_masks' in output_dict:\n",
    "#     # Reframe the the bbox mask to the image size.\n",
    "#     detection_masks_reframed = utils_ops.reframe_box_masks_to_image_masks(\n",
    "#               output_dict['detection_masks'], output_dict['detection_boxes'],\n",
    "#                image.shape[0], image.shape[1])      \n",
    "#     detection_masks_reframed = tf.cast(detection_masks_reframed > 0.5,\n",
    "#                                        tf.uint8)\n",
    "#     output_dict['detection_masks_reframed'] = detection_masks_reframed.numpy()\n",
    "    \n",
    "#     return output_dict"
   ]
  },
  {
   "cell_type": "code",
   "execution_count": null,
   "metadata": {},
   "outputs": [],
   "source": []
  },
  {
   "cell_type": "code",
   "execution_count": null,
   "metadata": {},
   "outputs": [],
   "source": [
    "# def image_detect(image):\n",
    "#     try:\n",
    "#     with detection_graph.as_default():\n",
    "#         with tf.Session() as sess:\n",
    "#                 # Get handles to input and output tensors\n",
    "#                 ops = tf.get_default_graph().get_operations()\n",
    "#                 all_tensor_names = {output.name for op in ops for output in op.outputs}\n",
    "#                 tensor_dict = {}\n",
    "#                 for key in [\n",
    "#                   'num_detections', 'detection_boxes', 'detection_scores',\n",
    "#                   'detection_classes', 'detection_masks'\n",
    "#                 ]:\n",
    "#                     tensor_name = key + ':0'\n",
    "#                     if tensor_name in all_tensor_names:\n",
    "#                         tensor_dict[key] = tf.get_default_graph().get_tensor_by_name(\n",
    "#                       tensor_name)\n",
    "                        \n",
    "#     run_inference_for_single_image(img, detection_graph)"
   ]
  },
  {
   "cell_type": "code",
   "execution_count": null,
   "metadata": {},
   "outputs": [],
   "source": []
  },
  {
   "cell_type": "code",
   "execution_count": null,
   "metadata": {},
   "outputs": [],
   "source": [
    "break"
   ]
  },
  {
   "cell_type": "code",
   "execution_count": null,
   "metadata": {},
   "outputs": [],
   "source": [
    "import cv2\n",
    "cap = cv2.VideoCapture(0)\n",
    "try:\n",
    "    with detection_graph.as_default():\n",
    "        with tf.Session() as sess:\n",
    "                # Get handles to input and output tensors\n",
    "                ops = tf.get_default_graph().get_operations()\n",
    "                all_tensor_names = {output.name for op in ops for output in op.outputs}\n",
    "                tensor_dict = {}\n",
    "                for key in [\n",
    "                  'num_detections', 'detection_boxes', 'detection_scores',\n",
    "                  'detection_classes', 'detection_masks'\n",
    "                ]:\n",
    "                    tensor_name = key + ':0'\n",
    "                    if tensor_name in all_tensor_names:\n",
    "                        tensor_dict[key] = tf.get_default_graph().get_tensor_by_name(\n",
    "                      tensor_name)\n",
    "\n",
    "                while True:\n",
    "                    ret, image_np = cap.read()\n",
    "                    # Expand dimensions since the model expects images to have shape: [1, None, None, 3]\n",
    "                    image_np_expanded = np.expand_dims(image_np, axis=0)\n",
    "                    # Actual detection.\n",
    "                    output_dict = run_inference_for_single_image(image_np, detection_graph)\n",
    "                    # Visualization of the results of a detection.\n",
    "                    vis_util.visualize_boxes_and_labels_on_image_array(\n",
    "                        image_np,\n",
    "                        output_dict['detection_boxes'],\n",
    "                        output_dict['detection_classes'],\n",
    "                        output_dict['detection_scores'],\n",
    "                        category_index,\n",
    "                        instance_masks=output_dict.get('detection_masks'),\n",
    "                        use_normalized_coordinates=True,\n",
    "                        line_thickness=8)\n",
    "                    cv2.imshow('object_detection', cv2.resize(image_np, (800, 600)))\n",
    "                    if cv2.waitKey(25) & 0xFF == ord('q'):\n",
    "                        cap.release()\n",
    "                        cv2.destroyAllWindows()\n",
    "                        break\n",
    "except Exception as e:\n",
    "    print(e)\n",
    "    cap.release()"
   ]
  },
  {
   "cell_type": "code",
   "execution_count": null,
   "metadata": {},
   "outputs": [],
   "source": []
  },
  {
   "cell_type": "code",
   "execution_count": null,
   "metadata": {},
   "outputs": [],
   "source": [
    "import cv2\n",
    "cap = cv2.imread('test_images/goose.jpg')\n",
    "try:\n",
    "    with detection_graph.as_default():\n",
    "        with tf.Session() as sess:\n",
    "                # Get handles to input and output tensors\n",
    "                ops = tf.get_default_graph().get_operations()\n",
    "                all_tensor_names = {output.name for op in ops for output in op.outputs}\n",
    "                tensor_dict = {}\n",
    "                for key in [\n",
    "                  'num_detections', 'detection_boxes', 'detection_scores',\n",
    "                  'detection_classes', 'detection_masks'\n",
    "                ]:\n",
    "                    tensor_name = key + ':0'\n",
    "                    if tensor_name in all_tensor_names:\n",
    "                        tensor_dict[key] = tf.get_default_graph().get_tensor_by_name(\n",
    "                      tensor_name)\n",
    "\n",
    "#                 while True:\n",
    "                image_np = cap\n",
    "                # Expand dimensions since the model expects images to have shape: [1, None, None, 3]\n",
    "                image_np_expanded = np.expand_dims(image_np, axis=0)\n",
    "                # Actual detection.\n",
    "                output_dict = run_inference_for_single_image(image_np, detection_graph)\n",
    "                # Visualization of the results of a detection.\n",
    "                vis_util.visualize_boxes_and_labels_on_image_array(\n",
    "                    image_np,\n",
    "                    output_dict['detection_boxes'],\n",
    "                    output_dict['detection_classes'],\n",
    "                    output_dict['detection_scores'],\n",
    "                    category_index,\n",
    "                    instance_masks=output_dict.get('detection_masks'),\n",
    "                    use_normalized_coordinates=True,\n",
    "                    line_thickness=8)\n",
    "                cv2.imshow('object_detection', cv2.resize(image_np, (800, 600)))\n",
    "                cv2.waitKey(0)\n",
    "#                 if cv2.waitKey(25) & 0xFF == ord('q'):\n",
    "# #                         cap.release()\n",
    "#                     cv2.destroyAllWindows()\n",
    "# #                     break\n",
    "except Exception as e:\n",
    "    print(e)\n",
    "#     cap.release()"
   ]
  },
  {
   "cell_type": "code",
   "execution_count": null,
   "metadata": {},
   "outputs": [],
   "source": []
  }
 ],
 "metadata": {
  "kernelspec": {
   "display_name": "Python 3",
   "language": "python",
   "name": "python3"
  },
  "language_info": {
   "codemirror_mode": {
    "name": "ipython",
    "version": 3
   },
   "file_extension": ".py",
   "mimetype": "text/x-python",
   "name": "python",
   "nbconvert_exporter": "python",
   "pygments_lexer": "ipython3",
   "version": "3.6.10"
  }
 },
 "nbformat": 4,
 "nbformat_minor": 4
}
